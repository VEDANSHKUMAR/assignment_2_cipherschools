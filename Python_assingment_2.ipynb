{
 "cells": [
  {
   "cell_type": "code",
   "execution_count": 3,
   "id": "5eb6b2ec",
   "metadata": {},
   "outputs": [
    {
     "name": "stdout",
     "output_type": "stream",
     "text": [
      "Enter the number of elements::5\n",
      "Enter the no::1\n",
      "Enter the no::2\n",
      "Enter the no::3\n",
      "Enter the no::4\n",
      "Enter the no::5\n",
      "[1, 2, 3, 4, 5]\n",
      "[5, 4, 3, 2, 1]\n"
     ]
    }
   ],
   "source": [
    "#Q1. Write a program to print all the natural numbers from 1 to n (user input). Then print the same in reverse order.\n",
    "natural_numbers=[]\n",
    "n=int(input(\"Enter the number of elements::\"))\n",
    "for i in range (0,n):\n",
    "    no= int(input(\"Enter the no::\"))\n",
    "    natural_numbers.append(no)\n",
    "print(natural_numbers)\n",
    "natural_numbers.reverse()\n",
    "print(natural_numbers)\n",
    "\n"
   ]
  },
  {
   "cell_type": "code",
   "execution_count": 12,
   "id": "7bf6c3fc",
   "metadata": {},
   "outputs": [
    {
     "name": "stdout",
     "output_type": "stream",
     "text": [
      "Even numbers between 1 to 100 are [0, 2, 4, 6, 8, 10, 12, 14, 16, 18, 20, 22, 24, 26, 28, 30, 32, 34, 36, 38, 40, 42, 44, 46, 48, 50, 52, 54, 56, 58, 60, 62, 64, 66, 68, 70, 72, 74, 76, 78, 80, 82, 84, 86, 88, 90, 92, 94, 96, 98, 100]\n",
      "\n",
      "Odd numbers between 1 to 100 are [1, 3, 5, 7, 9, 11, 13, 15, 17, 19, 21, 23, 25, 27, 29, 31, 33, 35, 37, 39, 41, 43, 45, 47, 49, 51, 53, 55, 57, 59, 61, 63, 65, 67, 69, 71, 73, 75, 77, 79, 81, 83, 85, 87, 89, 91, 93, 95, 97, 99]\n"
     ]
    }
   ],
   "source": [
    "#Q2. Print all odd numbers and even numbers between 1 to 100.\n",
    "even=[]\n",
    "odd=[]\n",
    "for i in range(1,101):\n",
    "    if i%2==0:\n",
    "        even.append(i)\n",
    "    else:\n",
    "        odd.append(i)\n",
    "print(\"Even numbers between 1 to 100 are\", even)\n",
    "print()\n",
    "print(\"Odd numbers between 1 to 100 are\",odd)"
   ]
  },
  {
   "cell_type": "code",
   "execution_count": 4,
   "id": "eaf98b97",
   "metadata": {},
   "outputs": [
    {
     "name": "stdout",
     "output_type": "stream",
     "text": [
      "Enter the number::7\n",
      "True\n"
     ]
    }
   ],
   "source": [
    "#Q3. Write a program to check if a number is prime or not. Example: 7 ==> True, 6 ==> False\n",
    "def prime(number):\n",
    "    for i in range (2,number):\n",
    "        if number%i==0:\n",
    "            return False\n",
    "        else:\n",
    "            return True\n",
    "n=int(input(\"Enter the number::\"))\n",
    "if prime(n):\n",
    "    print(\"True\")\n",
    "else:\n",
    "    print(\"False\")\n",
    "   \n",
    "\n"
   ]
  },
  {
   "cell_type": "code",
   "execution_count": 6,
   "id": "12e4ca06",
   "metadata": {},
   "outputs": [
    {
     "name": "stdout",
     "output_type": "stream",
     "text": [
      "Enter the range of the number::17\n",
      "[3, 5, 6, 9, 10, 12, 15]\n",
      "60\n"
     ]
    }
   ],
   "source": [
    "#Q4. Write a program that asks the user for a number n and prints the sum of the numbers 1 to n such that only multiples of three or five are considered in the sum, e.g. 3, 5, 6, 9, 10, 12, 15 for n=17.\n",
    "add_number=[]\n",
    "n=int(input(\"Enter the range of the number::\"))\n",
    "for i in range(1,n+1):\n",
    "    if i%3==0  or i%5==0:\n",
    "        add_number.append(i)\n",
    "print(add_number)\n",
    "Sum=sum(add_number)\n",
    "print(Sum)"
   ]
  },
  {
   "cell_type": "code",
   "execution_count": 8,
   "id": "e0e04b99",
   "metadata": {},
   "outputs": [
    {
     "name": "stdout",
     "output_type": "stream",
     "text": [
      "Enter the number::5\n",
      "15\n",
      "120\n"
     ]
    }
   ],
   "source": [
    "#Q5. Write a program that asks the user for a number n and gives them the possibility to choose between computing the sum and computing the product of 1,…,n.\n",
    "import numpy\n",
    "number=int(input(\"Enter the number::\"))\n",
    "list_numbers=[]\n",
    "for i in range (1,number+1):\n",
    "    list_numbers.append(i)\n",
    "Sum=sum(list_numbers)\n",
    "Product=numpy.prod(list_numbers)\n",
    "print(Sum)\n",
    "print(Product)\n"
   ]
  },
  {
   "cell_type": "code",
   "execution_count": 43,
   "id": "88a63f6a",
   "metadata": {},
   "outputs": [
    {
     "name": "stdout",
     "output_type": "stream",
     "text": [
      "468396\n"
     ]
    }
   ],
   "source": [
    "#Q6 Find the sum of all the multiples of 3 or 5 below 1000.\n",
    "for i in range(1,1000+1):\n",
    "    if i%3==0  or i%5==0:\n",
    "        add_number.append(i)\n",
    "Sum=sum(add_number)\n",
    "print(Sum)"
   ]
  },
  {
   "cell_type": "code",
   "execution_count": 49,
   "id": "b330ffa0",
   "metadata": {},
   "outputs": [
    {
     "name": "stdout",
     "output_type": "stream",
     "text": [
      "[2002, 2009, 2016, 2023, 2037, 2044, 2051, 2058, 2072, 2079, 2086, 2093, 2107, 2114, 2121, 2128, 2142, 2149, 2156, 2163, 2177, 2184, 2191, 2198, 2212, 2219, 2226, 2233, 2247, 2254, 2261, 2268, 2282, 2289, 2296, 2303, 2317, 2324, 2331, 2338, 2352, 2359, 2366, 2373, 2387, 2394, 2401, 2408, 2422, 2429, 2436, 2443, 2457, 2464, 2471, 2478, 2492, 2499, 2506, 2513, 2527, 2534, 2541, 2548, 2562, 2569, 2576, 2583, 2597, 2604, 2611, 2618, 2632, 2639, 2646, 2653, 2667, 2674, 2681, 2688, 2702, 2709, 2716, 2723, 2737, 2744, 2751, 2758, 2772, 2779, 2786, 2793, 2807, 2814, 2821, 2828, 2842, 2849, 2856, 2863, 2877, 2884, 2891, 2898, 2912, 2919, 2926, 2933, 2947, 2954, 2961, 2968, 2982, 2989, 2996, 3003, 3017, 3024, 3031, 3038, 3052, 3059, 3066, 3073, 3087, 3094, 3101, 3108, 3122, 3129, 3136, 3143, 3157, 3164, 3171, 3178, 3192, 3199]\n"
     ]
    }
   ],
   "source": [
    "#Q7. Write a program which will find all such numbers which are divisible by 7 but are not a multiple of 5, between 2000 and 3200 (both included).\n",
    "add_number=[]\n",
    "for i in range(2000,3200+1):\n",
    "    if i%7==0 and i%5!=0:\n",
    "        add_number.append(i)\n",
    "print(add_number)"
   ]
  },
  {
   "cell_type": "code",
   "execution_count": 50,
   "id": "07d2ff73",
   "metadata": {},
   "outputs": [
    {
     "name": "stdout",
     "output_type": "stream",
     "text": [
      "338350\n"
     ]
    }
   ],
   "source": [
    "#Q8. Find the difference between the sum of the squares of the first one hundred natural numbers and the square of the sum.\n",
    "number=[]\n",
    "for i in range (0,101):\n",
    "    number.append(i)\n",
    "Sum=sum(number)\n",
    "for i in range (0,101):\n",
    "    i=i**2\n",
    "    number.append(i)\n",
    "Sum_of_square=sum(number)\n",
    "diffrence=Sum_of_square-Sum\n",
    "print(diffrence)\n",
    "\n",
    "    "
   ]
  },
  {
   "cell_type": "code",
   "execution_count": 53,
   "id": "2096f748",
   "metadata": {},
   "outputs": [
    {
     "data": {
      "text/plain": [
       "120"
      ]
     },
     "execution_count": 53,
     "metadata": {},
     "output_type": "execute_result"
    }
   ],
   "source": [
    "#Q9. Write a program which can compute the factorial of a given number.\n",
    "def factorial(n):\n",
    "    if n < 0:\n",
    "        return 0\n",
    "    elif n == 0 or n == 1:\n",
    "        return 1\n",
    "    else:\n",
    "        fact = 1\n",
    "        while(n > 1):\n",
    "            fact *= n\n",
    "            n -= 1\n",
    "        return fact\n",
    "factorial(5)"
   ]
  },
  {
   "cell_type": "code",
   "execution_count": 135,
   "id": "63932a0a",
   "metadata": {},
   "outputs": [
    {
     "name": "stdout",
     "output_type": "stream",
     "text": [
      "1 \n",
      "\n",
      "2 2 \n",
      "\n",
      "3 3 3 \n",
      "\n",
      "4 4 4 4 \n",
      "\n",
      "5 5 5 5 5 \n",
      "\n",
      "----------------------------\n",
      "5 5 5 5 5 \n",
      "5 4 4 4 5 \n",
      "5 4 3 4 5 \n",
      "5 4 4 4 5 \n",
      "5 5 5 5 5 \n",
      "-------------------\n",
      "* \n",
      "\n",
      "* * \n",
      "\n",
      "* * * \n",
      "\n",
      "* * * * \n",
      "\n",
      "* * * * * \n",
      "\n",
      "----------------------\n",
      "* * * * \n",
      "\n",
      "* * * \n",
      "\n",
      "* * \n",
      "\n",
      "* \n",
      "\n",
      "----------------------\n",
      "# # # # # \n",
      "\n",
      "# # # # # \n",
      "\n",
      "# # # # # \n",
      "\n",
      "# # # # # \n",
      "\n",
      "# # # # # \n",
      "\n"
     ]
    }
   ],
   "source": [
    "#Q10. Pattern:\n",
    "'''\n",
    "1\n",
    "\n",
    "2 2\n",
    "\n",
    "3 3 3\n",
    "\n",
    "4 4 4 4\n",
    "\n",
    "5 5 5 5 5 '''\n",
    "\n",
    "for i in range(1,6):\n",
    "    for j in range(0,i):\n",
    "        print(i,end=\" \")\n",
    "    print(\"\\n\")\n",
    "\n",
    "print(\"----------------------------\")\n",
    "\n",
    "'''\n",
    "5 5 5 5 5 \n",
    "5 4 4 4 5 \n",
    "5 4 3 4 5 \n",
    "5 4 4 4 5 \n",
    "5 5 5 5 5\n",
    "\n",
    "'''\n",
    "for i in range(5):\n",
    "    for j in range(5):\n",
    "        print(max(max(i+1,j+1),max(5-j,5-i)) , end=\" \")\n",
    "    print()\n",
    "    \n",
    "    \n",
    "print(\"-------------------\")\n",
    "\n",
    "'''\n",
    "* \n",
    "* * \n",
    "* * * \n",
    "* * * * \n",
    "* * * * * \n",
    "'''\n",
    "for i in range(1,6):\n",
    "    for j in range(0,i):\n",
    "        print(\"*\",end=\" \")\n",
    "    print(\"\\n\")\n",
    "    \n",
    "    \n",
    "print(\"----------------------\")\n",
    "\n",
    "'''\n",
    "****\n",
    "***\n",
    "**\n",
    "*\n",
    "'''\n",
    "for i in range (4,0,-1):\n",
    "    for j in range (0,i):\n",
    "        print(\"*\",end=\" \")\n",
    "    print(\"\\n\")\n",
    "    \n",
    "    \n",
    "print(\"----------------------\")\n",
    "'''\n",
    "# # # # # \n",
    "# # # # # \n",
    "# # # # # \n",
    "# # # # # \n",
    "# # # # # \n",
    "'''\n",
    "for i in range(1,6):\n",
    "    for j in range(0,5):\n",
    "        print(\"#\",end=\" \")\n",
    "    print(\"\\n\")\n",
    "    "
   ]
  },
  {
   "cell_type": "code",
   "execution_count": 90,
   "id": "5756d440",
   "metadata": {},
   "outputs": [
    {
     "name": "stdout",
     "output_type": "stream",
     "text": [
      "9\n",
      "\n",
      "11106\n"
     ]
    }
   ],
   "source": [
    "#Q11. Write a program that computes the value of a+aa+aaa+aaaa with a given digit as the value of a. Suppose the following input is supplied to the program: 9, Then, the output should be: 9 + 99 + 999 + 9999 =  11106\n",
    "a=input()\n",
    "print()\n",
    "v1=a*1\n",
    "v2=a*2\n",
    "v3=a*3\n",
    "v4=a*4\n",
    "Sum=int(v1)+int(v2)+int(v3)+int(v4)\n",
    "print(Sum)\n",
    "\n"
   ]
  },
  {
   "cell_type": "code",
   "execution_count": 93,
   "id": "cc81d41a",
   "metadata": {},
   "outputs": [
    {
     "name": "stdout",
     "output_type": "stream",
     "text": [
      "Enter the string::Harsh\n",
      "5\n"
     ]
    }
   ],
   "source": [
    "#Q12. Find the length of a string using loops (not len())\n",
    "count=0\n",
    "string=input(\"Enter the string::\")\n",
    "for _ in string:\n",
    "    count=count+1\n",
    "print(count)\n"
   ]
  },
  {
   "cell_type": "code",
   "execution_count": 101,
   "id": "2c85c16d",
   "metadata": {},
   "outputs": [
    {
     "name": "stdout",
     "output_type": "stream",
     "text": [
      "Enter the string ::this is a test sentence number 389\n",
      "3\n",
      "25\n"
     ]
    }
   ],
   "source": [
    "#Q13. Write a program that accepts a sentence (string) and calculate the number of letters and digits. Example: ‘this is a test sentence number 389’ ==> letters = 25 and digits = 3.\n",
    "string=input(\"Enter the string ::\")\n",
    "digit=0\n",
    "letter=0\n",
    "for i in string:\n",
    "    if i.isdigit():\n",
    "        digit+=1\n",
    "    elif i.isalpha():\n",
    "        letter+=1\n",
    "print(digit)\n",
    "print(letter)"
   ]
  },
  {
   "cell_type": "code",
   "execution_count": 113,
   "id": "ed082956",
   "metadata": {},
   "outputs": [
    {
     "name": "stdout",
     "output_type": "stream",
     "text": [
      "Enter the string::hello\n",
      "['H', 'E', 'L', 'L', 'O']\n"
     ]
    }
   ],
   "source": [
    "#Q14.  Write a program that accepts a string and outputs the string with all capital letters.\n",
    "#Example: ‘hello’ ==> ‘HELLO’. (using loop)\n",
    "string=input(\"Enter the string::\")\n",
    "lenth=len(string)\n",
    "string1=list(string)\n",
    "for i in range(0,lenth):\n",
    "    if string1[i] >= 'a' and string1[i] <= 'z':\n",
    "        string1[i] = chr(ord(string1[i]) - 32)\n",
    "print(string1)"
   ]
  },
  {
   "cell_type": "code",
   "execution_count": 118,
   "id": "4280bae7",
   "metadata": {},
   "outputs": [
    {
     "name": "stdout",
     "output_type": "stream",
     "text": [
      "Enter a string::HELLOhello\n",
      "Upper 5\n",
      "Lower 5\n"
     ]
    }
   ],
   "source": [
    "#Q15. Write a program that accepts a sentence and calculate the number of upper case letters and lower case letters.\n",
    "string=input(\"Enter a string::\")\n",
    "Upper=0\n",
    "Lower=0\n",
    "for i in  string:\n",
    "    if i.isupper():\n",
    "        Upper=Upper+1\n",
    "    elif i.islower():\n",
    "        Lower=Lower+1\n",
    "print(\"Upper\",Upper)\n",
    "print(\"Lower\",Lower)"
   ]
  },
  {
   "cell_type": "code",
   "execution_count": 120,
   "id": "52b92dd7",
   "metadata": {},
   "outputs": [
    {
     "name": "stdout",
     "output_type": "stream",
     "text": [
      "Enter the string::This is the sample string.\n",
      "3\n"
     ]
    }
   ],
   "source": [
    "#Q16. Write  a program that counts the occurrence of a character in a string. Example: ‘This is a test string.’ count of i = 3.\n",
    "string= input(\"Enter the string::\")\n",
    "number_of_char=string.count(\"i\")\n",
    "print(number_of_char)"
   ]
  },
  {
   "cell_type": "code",
   "execution_count": 123,
   "id": "adff8509",
   "metadata": {},
   "outputs": [
    {
     "name": "stdout",
     "output_type": "stream",
     "text": [
      "Enter the string::malayalam\n",
      "yes\n"
     ]
    }
   ],
   "source": [
    "#Q17. Write a program to find if a given string is a palindrome or not.\n",
    "string=input(\"Enter the string::\")\n",
    "if string==string[::-1]:\n",
    "    print(\"yes\")\n",
    "else:\n",
    "    print(\"No\")"
   ]
  },
  {
   "cell_type": "code",
   "execution_count": 124,
   "id": "7759c07e",
   "metadata": {},
   "outputs": [
    {
     "name": "stdout",
     "output_type": "stream",
     "text": [
      "Enter the string::To be honest\n",
      "Enter the substring::be\n",
      "yes\n"
     ]
    }
   ],
   "source": [
    "#Q18. Write a program which accepts two strings s1 and s2 and checks if s2 is a substring of s1.\n",
    "string=input(\"Enter the string::\")\n",
    "substring=input(\"Enter the substring::\")\n",
    "count=string.count(substring)\n",
    "if count>0:\n",
    "    print(\"yes\")"
   ]
  },
  {
   "cell_type": "code",
   "execution_count": 131,
   "id": "db1fa793",
   "metadata": {},
   "outputs": [
    {
     "name": "stdout",
     "output_type": "stream",
     "text": [
      "Enter the password::hra@1\n",
      "1\n",
      "1\n",
      "1\n",
      "1\n",
      "1\n",
      "invalid password\n",
      "Following are the criteria for checking the password::\n",
      "1. At least  1 letter between [a-z] \n",
      "2. At least 1 number between [0-9] \n",
      "3. At least 1 letter between [@$#%&] \n"
     ]
    }
   ],
   "source": [
    "'''\n",
    "Q19. Make a password validator with the following checks. A website requires the users to input username and password to register. Write a program to check the validity of password input by users.\n",
    "\n",
    "    Following are the criteria for checking the password:\n",
    "1. At least  1 letter between [a-z]     \n",
    "2. At least 1 number between [0-9]     \n",
    "3. At least 1 letter between [@$#%&]\n",
    "\n",
    "'''\n",
    "password=input(\"Enter the password::\")\n",
    "count=0\n",
    "count1=0\n",
    "count2=0\n",
    "for i in password:\n",
    "    if i.isdigit : \n",
    "        count=count+1\n",
    "        \n",
    "    elif i.isalpha:\n",
    "        count1=count1+1\n",
    "        \n",
    "    elif i==\"@\"or i==\"$\"or i==\"#\"or i==\"%\"or i==\"&\":\n",
    "        count2=count2+1\n",
    "\n",
    "if count > 1 and count1 > 0 and count2 > 0:\n",
    "    print(\"valid password\")\n",
    "else:\n",
    "    print(\"invalid password\")\n",
    "    print(\"Following are the criteria for checking the password::\")\n",
    "    print(\"1. At least  1 letter between [a-z] \")\n",
    "    print(\"2. At least 1 number between [0-9] \")\n",
    "    print(\"3. At least 1 letter between [@$#%&] \")\n",
    "\n",
    "     \n",
    "\n",
    "\n",
    "    \n",
    "\n"
   ]
  },
  {
   "cell_type": "code",
   "execution_count": 134,
   "id": "04da67ac",
   "metadata": {},
   "outputs": [
    {
     "name": "stdout",
     "output_type": "stream",
     "text": [
      "o\n",
      "o\n",
      "a\n",
      "o\n",
      "u\n",
      "a\n"
     ]
    }
   ],
   "source": [
    "#Q20. s = \"Hello how are you all\". For this given string write a code such that it prints the vowels present in the string s if any. ex: \"i\", \"a\" etc.\n",
    "s=\"Hello how are you all\"\n",
    "for i in s:\n",
    "    if i==\"a\" or i==\"i\" or i==\"o\" or i==\"u\" or i==\"v\":\n",
    "        print(i)"
   ]
  },
  {
   "cell_type": "code",
   "execution_count": null,
   "id": "a9fd4b93",
   "metadata": {},
   "outputs": [],
   "source": []
  },
  {
   "cell_type": "code",
   "execution_count": null,
   "id": "7bf58023",
   "metadata": {},
   "outputs": [],
   "source": []
  },
  {
   "cell_type": "code",
   "execution_count": null,
   "id": "dfc9ae36",
   "metadata": {},
   "outputs": [],
   "source": []
  },
  {
   "cell_type": "code",
   "execution_count": null,
   "id": "f5d928f6",
   "metadata": {},
   "outputs": [],
   "source": []
  },
  {
   "cell_type": "code",
   "execution_count": null,
   "id": "f1421918",
   "metadata": {},
   "outputs": [],
   "source": []
  },
  {
   "cell_type": "code",
   "execution_count": null,
   "id": "766ac8c5",
   "metadata": {},
   "outputs": [],
   "source": []
  },
  {
   "cell_type": "code",
   "execution_count": null,
   "id": "4a767c54",
   "metadata": {},
   "outputs": [],
   "source": []
  },
  {
   "cell_type": "code",
   "execution_count": null,
   "id": "2a15c678",
   "metadata": {},
   "outputs": [],
   "source": []
  },
  {
   "cell_type": "code",
   "execution_count": null,
   "id": "b9c9292b",
   "metadata": {},
   "outputs": [],
   "source": []
  },
  {
   "cell_type": "code",
   "execution_count": null,
   "id": "f0f7c017",
   "metadata": {},
   "outputs": [],
   "source": []
  }
 ],
 "metadata": {
  "kernelspec": {
   "display_name": "Python 3",
   "language": "python",
   "name": "python3"
  },
  "language_info": {
   "codemirror_mode": {
    "name": "ipython",
    "version": 3
   },
   "file_extension": ".py",
   "mimetype": "text/x-python",
   "name": "python",
   "nbconvert_exporter": "python",
   "pygments_lexer": "ipython3",
   "version": "3.8.8"
  }
 },
 "nbformat": 4,
 "nbformat_minor": 5
}
